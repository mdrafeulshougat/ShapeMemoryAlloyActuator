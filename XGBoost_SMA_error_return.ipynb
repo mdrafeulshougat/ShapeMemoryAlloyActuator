{
 "cells": [
  {
   "cell_type": "code",
   "execution_count": 1,
   "id": "e3814084",
   "metadata": {},
   "outputs": [
    {
     "name": "stderr",
     "output_type": "stream",
     "text": [
      "D:\\Python\\lib\\site-packages\\scipy\\__init__.py:146: UserWarning: A NumPy version >=1.16.5 and <1.23.0 is required for this version of SciPy (detected version 1.23.3\n",
      "  warnings.warn(f\"A NumPy version >={np_minversion} and <{np_maxversion}\"\n"
     ]
    }
   ],
   "source": [
    "# Necessary imports\n",
    "import numpy as np\n",
    "import pandas as pd\n",
    "import xgboost as xgb\n",
    "from sklearn.model_selection import train_test_split\n",
    "import matplotlib.pyplot as plt\n",
    "from sklearn.metrics import make_scorer\n",
    "from sklearn.model_selection import GridSearchCV\n",
    "from sklearn.metrics import mean_absolute_percentage_error"
   ]
  },
  {
   "cell_type": "code",
   "execution_count": 2,
   "id": "058bbaf5",
   "metadata": {},
   "outputs": [
    {
     "data": {
      "text/plain": [
       "(13701, 4)"
      ]
     },
     "execution_count": 2,
     "metadata": {},
     "output_type": "execute_result"
    }
   ],
   "source": [
    "dataset = pd.read_csv('C:/Users/Md Rafeul Shougat/interpolated_SMA/100avg_sine_sweep9_voltage.csv')\n",
    "dataset2= pd.read_csv('C:/Users/Md Rafeul Shougat/interpolated_SMA/sine_sweep9.csv')\n",
    "X = dataset.iloc[:, 0:4].values\n",
    "y = dataset2.iloc[:, 1].values\n",
    "#length_x = dataset2.iloc[:, 0].values\n",
    "#lengt=dataset1.iloc[:, -1].values\n",
    "X.shape"
   ]
  },
  {
   "cell_type": "code",
   "execution_count": 3,
   "id": "9ccd7c14",
   "metadata": {},
   "outputs": [],
   "source": [
    "# dataset1_1 = pd.read_csv('C:/Users/Md Rafeul Shougat/data_for_ML_ver2/test1_unit_random_voltage.csv')\n",
    "# dataset1_2 = pd.read_csv('C:/Users/Md Rafeul Shougat/data_for_ML_ver2/test2_unit_random_voltage.csv')\n",
    "# dataset1_3 = pd.read_csv('C:/Users/Md Rafeul Shougat/data_for_ML_ver2/test3_unit_random_voltage.csv')\n",
    "# dataset2_1= pd.read_csv('C:/Users/Md Rafeul Shougat/data_for_ML_ver2/test1_unit_random.csv')\n",
    "# dataset2_2= pd.read_csv('C:/Users/Md Rafeul Shougat/data_for_ML_ver2/test2_unit_random.csv')\n",
    "# dataset2_3= pd.read_csv('C:/Users/Md Rafeul Shougat/data_for_ML_ver2/test3_unit_random.csv')\n",
    "\n",
    "# X = np.vstack((dataset1_1,dataset1_2,dataset1_3))\n",
    "# y = np.vstack((dataset2_1,dataset2_2,dataset2_3))\n",
    "# y = y[:, 0]\n",
    "# # X = dataset.iloc[:, 0:4].values\n",
    "# # y = dataset2.iloc[:, 1].values\n",
    "# #length_x = dataset2.iloc[:, 0].values\n",
    "# #lengt=dataset1.iloc[:, -1].values\n",
    "# X.shape"
   ]
  },
  {
   "cell_type": "code",
   "execution_count": 4,
   "id": "4c51a16c",
   "metadata": {},
   "outputs": [],
   "source": [
    "from sklearn.model_selection import train_test_split\n",
    "X_train, X_test, y_train, y_test = train_test_split(X, y, test_size = 0.2, random_state = 1234, shuffle = True)"
   ]
  },
  {
   "cell_type": "code",
   "execution_count": 5,
   "id": "34925a92",
   "metadata": {},
   "outputs": [
    {
     "data": {
      "text/plain": [
       "XGBRegressor(base_score=0.5, booster='gbtree', callbacks=None,\n",
       "             colsample_bylevel=1, colsample_bynode=1, colsample_bytree=1,\n",
       "             early_stopping_rounds=None, enable_categorical=False,\n",
       "             eval_metric=None, gamma=0, gpu_id=-1, grow_policy='depthwise',\n",
       "             importance_type=None, interaction_constraints='',\n",
       "             learning_rate=0.300000012, max_bin=256, max_cat_to_onehot=4,\n",
       "             max_delta_step=0, max_depth=6, max_leaves=0, min_child_weight=1,\n",
       "             missing=nan, monotone_constraints='()', n_estimators=100, n_jobs=0,\n",
       "             num_parallel_tree=1, predictor='auto', random_state=0, reg_alpha=0,\n",
       "             reg_lambda=1, ...)"
      ]
     },
     "execution_count": 5,
     "metadata": {},
     "output_type": "execute_result"
    }
   ],
   "source": [
    "# Train and test set are converted to DMatrix objects,\n",
    "# as it is required by learning API.\n",
    "regressor = xgb.XGBRegressor()\n",
    "regressor.fit(X_train, y_train)"
   ]
  },
  {
   "cell_type": "code",
   "execution_count": 6,
   "id": "b8dd08f4",
   "metadata": {},
   "outputs": [],
   "source": [
    "# parameters = {'n_estimators': [10,20,50,100,500],\n",
    "#               'learning_rate': [0.01, 0.05, 0.1, 0.15, 0.2],\n",
    "#               'criterion' :['squared_error', 'poisson'],\n",
    "#               'max_depth': [3,6,10],\n",
    "#               'gamma': [0,0.2,0.4],\n",
    "#               'alpha': [0, 1e-3, 0.1, 1, 100]\n",
    "#              }\n",
    "parameters = {'n_estimators': [500],\n",
    "              'learning_rate': [0.1],\n",
    "              'criterion' :['friedman_mse','squared_error'],\n",
    "              'max_depth': [10],\n",
    "              'gamma': [0],\n",
    "              'alpha': [0]\n",
    "             }"
   ]
  },
  {
   "cell_type": "code",
   "execution_count": 7,
   "id": "354baddb",
   "metadata": {},
   "outputs": [
    {
     "name": "stdout",
     "output_type": "stream",
     "text": [
      "[14:16:27] WARNING: C:/Users/administrator/workspace/xgboost-win64_release_1.6.0/src/learner.cc:627: \n",
      "Parameters: { \"criterion\" } might not be used.\n",
      "\n",
      "  This could be a false alarm, with some parameters getting used by language bindings but\n",
      "  then being mistakenly passed down to XGBoost core, or some parameter actually being used\n",
      "  but getting flagged wrongly here. Please open an issue if you find any such cases.\n",
      "\n",
      "\n"
     ]
    },
    {
     "data": {
      "text/plain": [
       "GridSearchCV(cv=10,\n",
       "             estimator=XGBRegressor(base_score=0.5, booster='gbtree',\n",
       "                                    callbacks=None, colsample_bylevel=1,\n",
       "                                    colsample_bynode=1, colsample_bytree=1,\n",
       "                                    early_stopping_rounds=None,\n",
       "                                    enable_categorical=False, eval_metric=None,\n",
       "                                    gamma=0, gpu_id=-1, grow_policy='depthwise',\n",
       "                                    importance_type=None,\n",
       "                                    interaction_constraints='',\n",
       "                                    learning_rate=0.300000012, max_bin=256,\n",
       "                                    max_ca...\n",
       "                                    min_child_weight=1, missing=nan,\n",
       "                                    monotone_constraints='()', n_estimators=100,\n",
       "                                    n_jobs=0, num_parallel_tree=1,\n",
       "                                    predictor='auto', random_state=0,\n",
       "                                    reg_alpha=0, reg_lambda=1, ...),\n",
       "             n_jobs=-1,\n",
       "             param_grid={'alpha': [0],\n",
       "                         'criterion': ['friedman_mse', 'squared_error'],\n",
       "                         'gamma': [0], 'learning_rate': [0.1],\n",
       "                         'max_depth': [10], 'n_estimators': [500]},\n",
       "             scoring='neg_mean_absolute_percentage_error')"
      ]
     },
     "execution_count": 7,
     "metadata": {},
     "output_type": "execute_result"
    }
   ],
   "source": [
    "grid_regressor = GridSearchCV(estimator=regressor, param_grid = parameters, cv = 10, scoring='neg_mean_absolute_percentage_error', n_jobs=-1)\n",
    "grid_regressor.fit(X_train, y_train)"
   ]
  },
  {
   "cell_type": "code",
   "execution_count": 8,
   "id": "fb5bb522",
   "metadata": {},
   "outputs": [
    {
     "name": "stdout",
     "output_type": "stream",
     "text": [
      " Results from Grid Search \n",
      "\n",
      " The best score across ALL searched params:\n",
      " -0.036648537438177024\n",
      "\n",
      " The best parameters across ALL searched params:\n",
      " {'alpha': 0, 'criterion': 'friedman_mse', 'gamma': 0, 'learning_rate': 0.1, 'max_depth': 10, 'n_estimators': 500}\n"
     ]
    }
   ],
   "source": [
    "print(\" Results from Grid Search \" )\n",
    "#print(\"\\n The best estimator across ALL searched params:\\n\",grid_regressor.best_estimator_)\n",
    "print(\"\\n The best score across ALL searched params:\\n\",grid_regressor.best_score_)\n",
    "print(\"\\n The best parameters across ALL searched params:\\n\",grid_regressor.best_params_)"
   ]
  },
  {
   "cell_type": "code",
   "execution_count": 9,
   "id": "a0172855",
   "metadata": {},
   "outputs": [
    {
     "data": {
      "text/plain": [
       "{'mean_fit_time': array([18.14816871, 16.57167962]),\n",
       " 'std_fit_time': array([0.55267501, 2.32790721]),\n",
       " 'mean_score_time': array([0.04660523, 0.04136658]),\n",
       " 'std_score_time': array([0.00504225, 0.00693326]),\n",
       " 'param_alpha': masked_array(data=[0, 0],\n",
       "              mask=[False, False],\n",
       "        fill_value='?',\n",
       "             dtype=object),\n",
       " 'param_criterion': masked_array(data=['friedman_mse', 'squared_error'],\n",
       "              mask=[False, False],\n",
       "        fill_value='?',\n",
       "             dtype=object),\n",
       " 'param_gamma': masked_array(data=[0, 0],\n",
       "              mask=[False, False],\n",
       "        fill_value='?',\n",
       "             dtype=object),\n",
       " 'param_learning_rate': masked_array(data=[0.1, 0.1],\n",
       "              mask=[False, False],\n",
       "        fill_value='?',\n",
       "             dtype=object),\n",
       " 'param_max_depth': masked_array(data=[10, 10],\n",
       "              mask=[False, False],\n",
       "        fill_value='?',\n",
       "             dtype=object),\n",
       " 'param_n_estimators': masked_array(data=[500, 500],\n",
       "              mask=[False, False],\n",
       "        fill_value='?',\n",
       "             dtype=object),\n",
       " 'params': [{'alpha': 0,\n",
       "   'criterion': 'friedman_mse',\n",
       "   'gamma': 0,\n",
       "   'learning_rate': 0.1,\n",
       "   'max_depth': 10,\n",
       "   'n_estimators': 500},\n",
       "  {'alpha': 0,\n",
       "   'criterion': 'squared_error',\n",
       "   'gamma': 0,\n",
       "   'learning_rate': 0.1,\n",
       "   'max_depth': 10,\n",
       "   'n_estimators': 500}],\n",
       " 'split0_test_score': array([-0.03668549, -0.03668549]),\n",
       " 'split1_test_score': array([-0.03720289, -0.03720289]),\n",
       " 'split2_test_score': array([-0.0374737, -0.0374737]),\n",
       " 'split3_test_score': array([-0.0357761, -0.0357761]),\n",
       " 'split4_test_score': array([-0.03761611, -0.03761611]),\n",
       " 'split5_test_score': array([-0.03558032, -0.03558032]),\n",
       " 'split6_test_score': array([-0.03778165, -0.03778165]),\n",
       " 'split7_test_score': array([-0.03454512, -0.03454512]),\n",
       " 'split8_test_score': array([-0.03596698, -0.03596698]),\n",
       " 'split9_test_score': array([-0.03785702, -0.03785702]),\n",
       " 'mean_test_score': array([-0.03664854, -0.03664854]),\n",
       " 'std_test_score': array([0.00107057, 0.00107057]),\n",
       " 'rank_test_score': array([1, 1])}"
      ]
     },
     "execution_count": 9,
     "metadata": {},
     "output_type": "execute_result"
    }
   ],
   "source": [
    "grid_regressor.cv_results_\n",
    "#print(grid_scores)"
   ]
  },
  {
   "cell_type": "code",
   "execution_count": 10,
   "id": "9c01ee9f",
   "metadata": {},
   "outputs": [],
   "source": [
    "# def error_metric_XGB_SMA(X, y, length_x, n_estim, max_dep, rand_state):\n",
    "#     \"\"\"This function returns the error metric with respect to the length\"\"\"\n",
    "    \n",
    "#     # Splitting\n",
    "#     X_train, X_test, length_x_train, length_x_test = train_test_split(X, length_x, test_size = 0.2, \\\n",
    "#                                                                       random_state = rand_state,shuffle = True)\n",
    "#     X_train, X_test, y_train, y_test = train_test_split(X, y, test_size = 0.2,\\\n",
    "#                                                         random_state = rand_state,shuffle = True)\n",
    "\n",
    "#     # Train and test set are converted to DMatrix objects,\n",
    "#     # as it is required by learning API.\n",
    "#     regressor = xgb.XGBRegressor(\n",
    "#         n_estimators=n_estim,\n",
    "#         reg_lambda=1,\n",
    "#         gamma=0,\n",
    "#         max_depth=max_dep,\n",
    "#     )\n",
    "\n",
    "#     regressor.fit(X_train, y_train)\n",
    "\n",
    "#     y_pred3 = regressor.predict(X_test)\n",
    "#     normDiffTest=np.zeros(len(X_test))\n",
    "    \n",
    "#     for i in range(len(X_test)):\n",
    "#       diff = abs(y_pred3[i]-y_test[i])\n",
    "#       #normDiffTest[i] = diff/(X_test[i][0])\n",
    "#       normDiffTest[i] = diff/(length_x_test[i])\n",
    "#       #result[i] = np.where(X == X_train[i])\n",
    "#       #y_train[i]\n",
    "\n",
    "#     normDiffTestAvg=np.mean(normDiffTest)\n",
    "#     return normDiffTestAvg"
   ]
  },
  {
   "cell_type": "code",
   "execution_count": 11,
   "id": "b4090e94",
   "metadata": {},
   "outputs": [],
   "source": [
    "# n_estim_arr = 100\n",
    "# max_dep_arr = 7\n",
    "# rand_st = 1\n",
    "# error = np.zeros((1,1))\n",
    "# #error = error_metric_XGB_SMA(X, y, length_x, n_estim=100,max_dep=6, rand_state=rand_st)\n",
    "# error = error_metric_XGB_SMA(X, y, length_x, n_estim=n_estim_arr,\\\n",
    "#                              max_dep=max_dep_arr, rand_state=rand_st)\n",
    "# print(error)"
   ]
  },
  {
   "cell_type": "code",
   "execution_count": 12,
   "id": "7ce3b9c9",
   "metadata": {},
   "outputs": [],
   "source": [
    "# n_estim_arr = np.around(np.linspace(10, 20, num=2))\n",
    "# n_estim_arr = n_estim_arr.astype(int)\n",
    "# max_dep_arr = np.around(np.linspace(2, 3, num=2))\n",
    "# max_dep_arr = max_dep_arr.astype(int)\n",
    "# #error = np.zeros((1,1))\n",
    "# error = np.zeros((len(n_estim_arr),len(max_dep_arr)))\n",
    "# rand_state = 1\n",
    "                 \n",
    "# i_1 = -1\n",
    "# for i in n_estim_arr:\n",
    "#     i_1=i_1+1\n",
    "#     i_2 = -1\n",
    "#     for j in max_dep_arr:\n",
    "#         i_2 = i_2+1\n",
    "#         error[i_1][i_2] = error_metric_XGB_SMA(X, y, length_x, n_estim=n_estim_arr[i_1],\\\n",
    "#                                                max_dep=max_dep_arr[i_2], rand_state=rand_state)\n",
    "\n",
    "# print(error)"
   ]
  },
  {
   "cell_type": "code",
   "execution_count": 13,
   "id": "21e6154b",
   "metadata": {},
   "outputs": [],
   "source": [
    "# plt.pcolor(n_estim_arr,max_dep_arr,error)\n",
    "# plt.rcParams['figure.figsize'] = [10, 8]\n",
    "# plt.xlabel(\"n_estimators\")\n",
    "# plt.ylabel(\"maximum depth\")\n",
    "# plt.colorbar(label=\"error metric\", orientation=\"vertical\")\n",
    "# plt.show()"
   ]
  }
 ],
 "metadata": {
  "kernelspec": {
   "display_name": "Python 3 (ipykernel)",
   "language": "python",
   "name": "python3"
  },
  "language_info": {
   "codemirror_mode": {
    "name": "ipython",
    "version": 3
   },
   "file_extension": ".py",
   "mimetype": "text/x-python",
   "name": "python",
   "nbconvert_exporter": "python",
   "pygments_lexer": "ipython3",
   "version": "3.9.12"
  }
 },
 "nbformat": 4,
 "nbformat_minor": 5
}
